{
 "cells": [
  {
   "cell_type": "code",
   "execution_count": 4,
   "metadata": {},
   "outputs": [
    {
     "name": "stdout",
     "output_type": "stream",
     "text": [
      "Extracting ./dataset/MNIST_data/train-images-idx3-ubyte.gz\n",
      "Extracting ./dataset/MNIST_data/train-labels-idx1-ubyte.gz\n",
      "Extracting ./dataset/MNIST_data/t10k-images-idx3-ubyte.gz\n",
      "Extracting ./dataset/MNIST_data/t10k-labels-idx1-ubyte.gz\n"
     ]
    }
   ],
   "source": [
    "import tensorflow as tf\n",
    "from tensorflow.examples.tutorials.mnist import input_data\n",
    "mnist = input_data.read_data_sets('./dataset/MNIST_data/', one_hot=True)\n",
    "#print(\"训练集大小为：%d\" % (mnist.train.num_examples))\n",
    "#print(\"训练集大小为：%d\" % (mnist.test.num_examples))"
   ]
  },
  {
   "cell_type": "code",
   "execution_count": 2,
   "metadata": {},
   "outputs": [],
   "source": [
    "# 设置等待输入的节点 float，大小[None,784]\n",
    "x = tf.placeholder(\"float\",[None,784])\n",
    "#  权重\n",
    "w = tf.Variable(tf.zeros([784,10]))\n",
    "# 偏置\n",
    "b = tf.Variable(tf.zeros([10]))\n",
    "# 激活函数\n",
    "y = tf.nn.softmax(tf.matmul(x,w) +b)\n",
    "# 二维张量 代表图片类别\n",
    "y_ = tf.placeholder(\"float\",[None,10])\n",
    "# 交叉熵\n",
    "cross_entropy = -tf.reduce_sum(y_ * tf.log(y))\n",
    "# 梯度下降法\n",
    "train_step = tf.train.GradientDescentOptimizer(0.01).minimize(cross_entropy)\n",
    "# 初始化变量\n",
    "init = tf.global_variables_initializer()\n",
    "sess = tf.Session()  \n",
    "sess.run(init)"
   ]
  },
  {
   "cell_type": "code",
   "execution_count": 3,
   "metadata": {},
   "outputs": [
    {
     "name": "stdout",
     "output_type": "stream",
     "text": [
      "0.9166\n"
     ]
    }
   ],
   "source": [
    "# 训练\n",
    "for i in range(3000):\n",
    "    batch_xs,batch_ys = mnist.train.next_batch(100)\n",
    "    feed_dict = {x: batch_xs, y_: batch_ys}\n",
    "    sess.run(train_step, feed_dict)\n",
    "# 评估训练精度\n",
    "correct_prediction = tf.equal(tf.argmax(y,1),tf.argmax(y_,1))\n",
    "accuracy = tf.reduce_mean(tf.cast(correct_prediction,\"float\"))\n",
    "# 计算测试集的正确率\n",
    "print(sess.run(accuracy,feed_dict={x: mnist.test.images,y_: mnist.test.labels}))"
   ]
  }
 ],
 "metadata": {
  "kernelspec": {
   "display_name": "Python 3",
   "language": "python",
   "name": "python3"
  },
  "language_info": {
   "codemirror_mode": {
    "name": "ipython",
    "version": 3
   },
   "file_extension": ".py",
   "mimetype": "text/x-python",
   "name": "python",
   "nbconvert_exporter": "python",
   "pygments_lexer": "ipython3",
   "version": "3.6.8"
  }
 },
 "nbformat": 4,
 "nbformat_minor": 2
}
