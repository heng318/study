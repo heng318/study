{
 "cells": [
  {
   "cell_type": "markdown",
   "metadata": {},
   "source": [
    "## pickle 模块\n",
    "python的pickle模块实现了基本的数据序列和反序列化。\n",
    "\n",
    "通过pickle模块的序列化操作我们能够将程序中运行的对象信息保存到文件中去，永久存储。\n",
    "\n",
    "通过pickle模块的反序列化操作，我们能够从文件中创建上一次程序保存的对象。\n",
    "\n",
    "基本接口：\n",
    "\n",
    "pickle.dump(obj, file, [,protocol])\n",
    "\n",
    "有了 pickle 这个对象, 就能对 file 以读取的形式打开:\n",
    "\n",
    "x = pickle.load(file)\n",
    "\n",
    "注解：从 file 中读取一个字符串，并将它重构为原来的python对象。\n",
    "\n",
    "file: 类文件对象，有read()和readline()接口。"
   ]
  },
  {
   "cell_type": "code",
   "execution_count": 1,
   "metadata": {},
   "outputs": [],
   "source": [
    "data = {\"tempera\":[35.7,36.4,36.4,36.3,36.3,36.3,36.4,36.3,36.3,36.3],\n",
    "        \"heart\":[70,79,83,77,78,84,76,62,65,60],\n",
    "        \"position\":[5,5,5,5,5,5,5,5,4,4],\n",
    "        \"oxygen\":[97,97,97,97,97,99,99,99,98,98],     \n",
    "        }"
   ]
  },
  {
   "cell_type": "code",
   "execution_count": 2,
   "metadata": {},
   "outputs": [
    {
     "data": {
      "text/plain": [
       "{'tempera': [35.7, 36.4, 36.4, 36.3, 36.3, 36.3, 36.4, 36.3, 36.3, 36.3],\n",
       " 'heart': [70, 79, 83, 77, 78, 84, 76, 62, 65, 60],\n",
       " 'position': [5, 5, 5, 5, 5, 5, 5, 5, 4, 4],\n",
       " 'oxygen': [97, 97, 97, 97, 97, 99, 99, 99, 98, 98]}"
      ]
     },
     "execution_count": 2,
     "metadata": {},
     "output_type": "execute_result"
    }
   ],
   "source": [
    "# 使用pickle模块将数据对象保存到文件\n",
    "import pickle\n",
    "with open('data.p', 'wb') as f:\n",
    "    pickle.dump(data, f)\n",
    "#使用pickle模块从文件中重构python对象\n",
    "with open('data.p', 'rb') as f:\n",
    "    data1 = pickle.load(f)\n",
    "data    "
   ]
  },
  {
   "cell_type": "code",
   "execution_count": 3,
   "metadata": {},
   "outputs": [
    {
     "data": {
      "text/plain": [
       "{'tempera': [35.7, 36.4, 36.4, 36.3, 36.3, 36.3, 36.4, 36.3, 36.3, 36.3],\n",
       " 'heart': [70, 79, 83, 77, 78, 84, 76, 62, 65, 60],\n",
       " 'position': [5, 5, 5, 5, 5, 5, 5, 5, 4, 4],\n",
       " 'oxygen': [97, 97, 97, 97, 97, 99, 99, 99, 98, 98]}"
      ]
     },
     "execution_count": 3,
     "metadata": {},
     "output_type": "execute_result"
    }
   ],
   "source": [
    "import json\n",
    "# 写入 JSON 数据\n",
    "with open('data.json', 'w') as f:\n",
    "    json.dump(data, f)\n",
    "    \n",
    "# 读取数据\n",
    "with open('data.json', 'r') as f:\n",
    "    data = json.load(f)\n",
    "data"
   ]
  },
  {
   "cell_type": "code",
   "execution_count": 4,
   "metadata": {
    "scrolled": true
   },
   "outputs": [
    {
     "data": {
      "text/plain": [
       "{'tempera': [35.7, 36.4, 36.4, 36.3, 36.3, 36.3, 36.4, 36.3, 36.3, 36.3],\n",
       " 'heart': [70, 79, 83, 77, 78, 84, 76, 62, 65, 60],\n",
       " 'position': [1, 2, 3, 4, 5, 6, 7, 8, 9, 1],\n",
       " 'oxygen': [97, 97, 97, 97, 97, 99, 99, 99, 98, 98]}"
      ]
     },
     "execution_count": 4,
     "metadata": {},
     "output_type": "execute_result"
    }
   ],
   "source": [
    "data['position'] = [1,2,3,4,5,6,7,8,9,1]\n",
    "data"
   ]
  },
  {
   "cell_type": "code",
   "execution_count": 5,
   "metadata": {},
   "outputs": [
    {
     "data": {
      "text/plain": [
       "{'tempera': [35.7, 36.4, 36.4, 36.3, 36.3, 36.3, 36.4, 36.3, 36.3, 36.3],\n",
       " 'heart': [70, 79, 83, 77, 78, 84, 76, 62, 65, 60],\n",
       " 'position': [1, 2, 3, 4, 5, 6, 7, 8, 9, 1, 10],\n",
       " 'oxygen': [97, 97, 97, 97, 97, 99, 99, 99, 98, 98]}"
      ]
     },
     "execution_count": 5,
     "metadata": {},
     "output_type": "execute_result"
    }
   ],
   "source": [
    "data['position'].append(10)\n",
    "data"
   ]
  },
  {
   "cell_type": "code",
   "execution_count": null,
   "metadata": {},
   "outputs": [],
   "source": []
  },
  {
   "cell_type": "code",
   "execution_count": null,
   "metadata": {},
   "outputs": [],
   "source": []
  }
 ],
 "metadata": {
  "kernelspec": {
   "display_name": "Python 3",
   "language": "python",
   "name": "python3"
  },
  "language_info": {
   "codemirror_mode": {
    "name": "ipython",
    "version": 3
   },
   "file_extension": ".py",
   "mimetype": "text/x-python",
   "name": "python",
   "nbconvert_exporter": "python",
   "pygments_lexer": "ipython3",
   "version": "3.6.9"
  }
 },
 "nbformat": 4,
 "nbformat_minor": 2
}
