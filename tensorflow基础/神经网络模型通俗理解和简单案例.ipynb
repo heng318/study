{
 "cells": [
  {
   "cell_type": "markdown",
   "metadata": {},
   "source": [
    "## 什么是人工神经网络"
   ]
  },
  {
   "cell_type": "markdown",
   "metadata": {},
   "source": [
    "首先必须澄清,人工神经网络和生物神经网络没有必然关系,只是人类为了通俗理解而作的一个比喻.\n",
    "\n",
    "这不是我的观点,是吴恩达在他的深度学习课程中多次重申的.\n",
    "\n",
    "人工神经网络(后文简称神经网络)由很多神经元相互链接构成一个网络, 而所谓的链接其实就是计算路径,\n",
    "\n",
    "所以, 神经网络可以看成是一个计算图, 神经元就是一个计算,链接神经元的边就是数据流通的路径.\n",
    "\n",
    "下图是一个经典的神经网络. 圆圈代表神经元, 边代表计算路径."
   ]
  },
  {
   "cell_type": "markdown",
   "metadata": {},
   "source": [
    "![title](images/nn.png)"
   ]
  },
  {
   "cell_type": "markdown",
   "metadata": {},
   "source": [
    "通常我们把一个神经网络分为三层: 输入层, 隐藏层和输出层. 输入层其实就是你的输入的数据, \n",
    "\n",
    "比如, 我们现在有个向量X=[1,2,3], X的每个元素可以当作输入层神经元的激活值, \n",
    "\n",
    "比如第一个神经元的激活值是1, 第二个神经元的激活值是2.\n",
    "\n",
    "得到了输入层的激活值, 我们接着计算隐藏层的激活值, 如果你懂得点线性代数,\n",
    "你可以用矩阵的运算得到隐层的激活向量A1:"
   ]
  },
  {
   "cell_type": "markdown",
   "metadata": {},
   "source": [
    "$$A=sigmoid\\left( W_{1}\\cdot x\\right)$$"
   ]
  },
  {
   "cell_type": "markdown",
   "metadata": {},
   "source": [
    "W1代表的是输入层和隐藏层之间每个神经元两两连接的线的权重, A1表示图中的[a4,a5,a6,a7], \n",
    "\n",
    "sigmoid表示激活函数, 它就是一个函数, 如果不知道可以先不理会. 从上图中, 你可以看出, \n",
    "\n",
    "W1的形状是 4x3, 因为隐层是4个神经元, 输入层是3个神经元. 如果你没有学过线性代数, \n",
    "\n",
    "那么你学习机器学习还是很有难度的, 但是没关系, 我这里列出计算隐层第一个神经元激活量a4的公式:"
   ]
  },
  {
   "cell_type": "markdown",
   "metadata": {},
   "source": [
    "$$a_{4}=sigmoid(x_{1}∗a_{41}+x_{2}∗a_{42}+a_{43})$$"
   ]
  },
  {
   "cell_type": "markdown",
   "metadata": {},
   "source": [
    "这个公式里都是实数运算, 不涉及任何的矩阵运算. 到此, 我们就得到了隐藏层的激活量.\n",
    "\n",
    "然后才能计算输出层的激活量, 算法和之前是一样的."
   ]
  },
  {
   "cell_type": "markdown",
   "metadata": {},
   "source": [
    "\n",
    "$$\\widehat{Y}=sigmoid(W_{2}A_{1})$$\n"
   ]
  },
  {
   "cell_type": "markdown",
   "metadata": {},
   "source": [
    "## 神经网络如何进行学习"
   ]
  },
  {
   "cell_type": "markdown",
   "metadata": {},
   "source": [
    "神经网络中可变的量就是上面提到的权重W1和W2, 后面我们统称为W, 当然不同的神经网络架构还会有不同的参数,\n",
    "\n",
    "但是为了简便起见, 我们暂时只使用权重. 有过小学经验的你应该可以知道, 通过改变W的值就能改变输出层的激活量Y.\n",
    "\n",
    "神经网络科学家的任务就是通过让机器学习已经准备好的训练数据, 找到最佳的W值, 让神经网络的计算结果Y^尽量接近训练数据Y.\n",
    "\n",
    "所以所谓的学习, 就指的是调整W的数值, 以便降低Y^"
   ]
  },
  {
   "cell_type": "markdown",
   "metadata": {},
   "source": [
    "## 世界上最简单的一个神经网络\n",
    "下面我们就用代码来实现一个简单的神经网络, 它只有两层(输入和输出), 一个神经元."
   ]
  },
  {
   "cell_type": "markdown",
   "metadata": {},
   "source": [
    "![title](images/single-nn.png)"
   ]
  },
  {
   "cell_type": "markdown",
   "metadata": {},
   "source": [
    "引入用到的库"
   ]
  },
  {
   "cell_type": "code",
   "execution_count": 1,
   "metadata": {},
   "outputs": [],
   "source": [
    "import tensorflow as tf\n",
    "sess = tf.InteractiveSession()"
   ]
  },
  {
   "cell_type": "code",
   "execution_count": 2,
   "metadata": {},
   "outputs": [],
   "source": [
    "# 输入值, 只是一个实数\n",
    "input_value = tf.constant(0.5, name=\"input_value\")\n",
    "\n",
    "# 权重, 它时一个可变量, 用Variable\n",
    "weight = tf.Variable(1.0,name=\"weight\") \n",
    "\n",
    "# 期望的输出值, 也就是正确答案\n",
    "expected_output = tf.constant(1.0,name=\"expected_output\")\n",
    "\n",
    "# 计算输出值, 其实就是简单的相乘, \n",
    "output = input_value * weight"
   ]
  },
  {
   "cell_type": "code",
   "execution_count": 3,
   "metadata": {},
   "outputs": [
    {
     "data": {
      "text/plain": [
       "<tf.Tensor 'input_value:0' shape=() dtype=float32>"
      ]
     },
     "execution_count": 3,
     "metadata": {},
     "output_type": "execute_result"
    }
   ],
   "source": [
    "input_value"
   ]
  },
  {
   "cell_type": "code",
   "execution_count": 4,
   "metadata": {},
   "outputs": [
    {
     "data": {
      "text/plain": [
       "<tf.Variable 'weight:0' shape=() dtype=float32_ref>"
      ]
     },
     "execution_count": 4,
     "metadata": {},
     "output_type": "execute_result"
    }
   ],
   "source": [
    "weight"
   ]
  },
  {
   "cell_type": "code",
   "execution_count": 5,
   "metadata": {},
   "outputs": [
    {
     "data": {
      "text/plain": [
       "<tf.Tensor 'expected_output:0' shape=() dtype=float32>"
      ]
     },
     "execution_count": 5,
     "metadata": {},
     "output_type": "execute_result"
    }
   ],
   "source": [
    "expected_output"
   ]
  },
  {
   "cell_type": "code",
   "execution_count": 6,
   "metadata": {},
   "outputs": [
    {
     "data": {
      "text/plain": [
       "<tf.Tensor 'mul:0' shape=() dtype=float32>"
      ]
     },
     "execution_count": 6,
     "metadata": {},
     "output_type": "execute_result"
    }
   ],
   "source": [
    "output"
   ]
  },
  {
   "cell_type": "markdown",
   "metadata": {},
   "source": [
    "计算损失值, 也就是衡量模型好坏的指标, 其实就是Y和Y^"
   ]
  },
  {
   "cell_type": "code",
   "execution_count": 7,
   "metadata": {},
   "outputs": [],
   "source": [
    "loss = (expected_output - output) ** 2"
   ]
  },
  {
   "cell_type": "code",
   "execution_count": 8,
   "metadata": {},
   "outputs": [
    {
     "data": {
      "text/plain": [
       "<tf.Tensor 'pow:0' shape=() dtype=float32>"
      ]
     },
     "execution_count": 8,
     "metadata": {},
     "output_type": "execute_result"
    }
   ],
   "source": [
    "loss"
   ]
  },
  {
   "cell_type": "markdown",
   "metadata": {},
   "source": [
    "设置优化方法, 我们就用最普通的梯度下降法即可, 目标是让loss最小化, loss越小表示神经网络的计算所得与期望所得越接近."
   ]
  },
  {
   "cell_type": "code",
   "execution_count": 9,
   "metadata": {},
   "outputs": [],
   "source": [
    "optimizer = tf.train.GradientDescentOptimizer(0.05).minimize(loss)"
   ]
  },
  {
   "cell_type": "markdown",
   "metadata": {},
   "source": [
    "训练模型, 让权重weight调整大小, 以便于让输出值output接近0, 总共学习100次:"
   ]
  },
  {
   "cell_type": "code",
   "execution_count": 10,
   "metadata": {
    "scrolled": false
   },
   "outputs": [
    {
     "name": "stdout",
     "output_type": "stream",
     "text": [
      "预测次数：1 预测值：0.512 Loss：0.238    预测次数：2 预测值：0.525 Loss：0.226    预测次数：3 预测值：0.537 Loss：0.215    预测次数：4 预测值：0.548 Loss：0.204    预测次数：5 预测值：0.559 Loss：0.194    预测次数：6 预测值：0.570 Loss：0.184    预测次数：7 预测值：0.581 Loss：0.175    预测次数：8 预测值：0.592 Loss：0.167    预测次数：9 预测值：0.602 Loss：0.158    预测次数：10 预测值：0.612 Loss：0.151    预测次数：11 预测值：0.622 Loss：0.143    预测次数：12 预测值：0.631 Loss：0.136    预测次数：13 预测值：0.640 Loss：0.129    预测次数：14 预测值：0.649 Loss：0.123    预测次数：15 预测值：0.658 Loss：0.117    预测次数：16 预测值：0.667 Loss：0.111    预测次数：17 预测值：0.675 Loss：0.106    预测次数：18 预测值：0.683 Loss：0.100    预测次数：19 预测值：0.691 Loss：0.096    预测次数：20 预测值：0.699 Loss：0.091    预测次数：21 预测值：0.706 Loss：0.086    预测次数：22 预测值：0.714 Loss：0.082    预测次数：23 预测值：0.721 Loss：0.078    预测次数：24 预测值：0.728 Loss：0.074    预测次数：25 预测值：0.734 Loss：0.070    预测次数：26 预测值：0.741 Loss：0.067    预测次数：27 预测值：0.748 Loss：0.064    预测次数：28 预测值：0.754 Loss：0.061    预测次数：29 预测值：0.760 Loss：0.058    预测次数：30 预测值：0.766 Loss：0.055    预测次数：31 预测值：0.772 Loss：0.052    预测次数：32 预测值：0.778 Loss：0.049    预测次数：33 预测值：0.783 Loss：0.047    预测次数：34 预测值：0.789 Loss：0.045    预测次数：35 预测值：0.794 Loss：0.042    预测次数：36 预测值：0.799 Loss：0.040    预测次数：37 预测值：0.804 Loss：0.038    预测次数：38 预测值：0.809 Loss：0.036    预测次数：39 预测值：0.814 Loss：0.035    预测次数：40 预测值：0.818 Loss：0.033    预测次数：41 预测值：0.823 Loss：0.031    预测次数：42 预测值：0.827 Loss：0.030    预测次数：43 预测值：0.832 Loss：0.028    预测次数：44 预测值：0.836 Loss：0.027    预测次数：45 预测值：0.840 Loss：0.026    预测次数：46 预测值：0.844 Loss：0.024    预测次数：47 预测值：0.848 Loss：0.023    预测次数：48 预测值：0.852 Loss：0.022    预测次数：49 预测值：0.855 Loss：0.021    预测次数：50 预测值：0.859 Loss：0.020    预测次数：51 预测值：0.863 Loss：0.019    预测次数：52 预测值：0.866 Loss：0.018    预测次数：53 预测值：0.869 Loss：0.017    预测次数：54 预测值：0.873 Loss：0.016    预测次数：55 预测值：0.876 Loss：0.015    预测次数：56 预测值：0.879 Loss：0.015    预测次数：57 预测值：0.882 Loss：0.014    预测次数：58 预测值：0.885 Loss：0.013    预测次数：59 预测值：0.888 Loss：0.013    预测次数：60 预测值：0.891 Loss：0.012    预测次数：61 预测值：0.893 Loss：0.011    预测次数：62 预测值：0.896 Loss：0.011    预测次数：63 预测值：0.899 Loss：0.010    预测次数：64 预测值：0.901 Loss：0.010    预测次数：65 预测值：0.904 Loss：0.009    预测次数：66 预测值：0.906 Loss：0.009    预测次数：67 预测值：0.908 Loss：0.008    预测次数：68 预测值：0.911 Loss：0.008    预测次数：69 预测值：0.913 Loss：0.008    预测次数：70 预测值：0.915 Loss：0.007    预测次数：71 预测值：0.917 Loss：0.007    预测次数：72 预测值：0.919 Loss：0.007    预测次数：73 预测值：0.921 Loss：0.006    预测次数：74 预测值：0.923 Loss：0.006    预测次数：75 预测值：0.925 Loss：0.006    预测次数：76 预测值：0.927 Loss：0.005    预测次数：77 预测值：0.929 Loss：0.005    预测次数：78 预测值：0.931 Loss：0.005    预测次数：79 预测值：0.932 Loss：0.005    预测次数：80 预测值：0.934 Loss：0.004    预测次数：81 预测值：0.936 Loss：0.004    预测次数：82 预测值：0.937 Loss：0.004    预测次数：83 预测值：0.939 Loss：0.004    预测次数：84 预测值：0.940 Loss：0.004    预测次数：85 预测值：0.942 Loss：0.003    预测次数：86 预测值：0.943 Loss：0.003    预测次数：87 预测值：0.945 Loss：0.003    预测次数：88 预测值：0.946 Loss：0.003    预测次数：89 预测值：0.947 Loss：0.003    预测次数：90 预测值：0.949 Loss：0.003    预测次数：91 预测值：0.950 Loss：0.002    预测次数：92 预测值：0.951 Loss：0.002    预测次数：93 预测值：0.953 Loss：0.002    预测次数：94 预测值：0.954 Loss：0.002    预测次数：95 预测值：0.955 Loss：0.002    预测次数：96 预测值：0.956 Loss：0.002    预测次数：97 预测值：0.957 Loss：0.002    预测次数：98 预测值：0.958 Loss：0.002    预测次数：99 预测值：0.959 Loss：0.002    预测次数：100 预测值：0.960 Loss：0.002    "
     ]
    }
   ],
   "source": [
    "%matplotlib inline\n",
    "sess.run(tf.global_variables_initializer())\n",
    "losses = []\n",
    "outputs = []\n",
    "for i in range(100):\n",
    "    losses.append(loss.eval())\n",
    "    outputs.append(output.eval())\n",
    "    sess.run(optimizer) \n",
    "    print('预测次数：{} 预测值：{} Loss：{}'.format(i+1,'%.3f' %output.eval(),'%.3f' %loss.eval()),end ='    ')"
   ]
  },
  {
   "cell_type": "markdown",
   "metadata": {},
   "source": [
    "可视化训练过程:"
   ]
  },
  {
   "cell_type": "code",
   "execution_count": 11,
   "metadata": {},
   "outputs": [
    {
     "data": {
      "image/png": "[encoded data removed]",
      "text/plain": [
       "<Figure size 432x288 with 1 Axes>"
      ]
     },
     "metadata": {
      "needs_background": "light"
     },
     "output_type": "display_data"
    }
   ],
   "source": [
    "import matplotlib.pyplot as plt\n",
    "plt.plot(outputs, label='output')\n",
    "plt.plot(losses, label='loss')\n",
    "leg = plt.legend(loc='best', ncol=2, mode=\"expand\", shadow=True, fancybox=True)\n",
    "plt.grid()\n",
    "plt.show()"
   ]
  },
  {
   "cell_type": "code",
   "execution_count": null,
   "metadata": {},
   "outputs": [],
   "source": []
  }
 ],
 "metadata": {
  "kernelspec": {
   "display_name": "Python 3",
   "language": "python",
   "name": "python3"
  },
  "language_info": {
   "codemirror_mode": {
    "name": "ipython",
    "version": 3
   },
   "file_extension": ".py",
   "mimetype": "text/x-python",
   "name": "python",
   "nbconvert_exporter": "python",
   "pygments_lexer": "ipython3",
   "version": "3.6.9"
  }
 },
 "nbformat": 4,
 "nbformat_minor": 2
}
